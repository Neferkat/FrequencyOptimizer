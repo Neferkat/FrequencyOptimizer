{
 "cells": [
  {
   "cell_type": "code",
   "execution_count": 1,
   "metadata": {},
   "outputs": [],
   "source": [
    "%matplotlib inline\n",
    "import numpy as np\n",
    "from frequencyoptimizer import *"
   ]
  },
  {
   "cell_type": "code",
   "execution_count": 2,
   "metadata": {},
   "outputs": [],
   "source": [
    "galnoise = GalacticNoise()\n",
    "telnoise = TelescopeNoise(gain=2.0,T_const=30)"
   ]
  },
  {
   "cell_type": "code",
   "execution_count": 3,
   "metadata": {},
   "outputs": [],
   "source": [
    "NCHAN = 20 #number of channels (in log frequency) to break up the band into to build covariance matrices\n",
    "NSTEPS = 20\n",
    "LEVELS = np.array([np.log10(0.5),np.log10(1.0),np.log10(2.0),np.log10(5.0),np.log10(10.0)])"
   ]
  },
  {
   "cell_type": "code",
   "execution_count": 4,
   "metadata": {},
   "outputs": [],
   "source": [
    "psrnoise = PulsarNoise(\"J1744-1134\",alpha=1.49,taud=26.1e-3,I_0=4.888,DM=3.14,D=0.41,tauvar=12.2e-3,dtd=1272.2,Weffs=np.zeros(NCHAN)+511.0,W50s=np.zeros(NCHAN)+136.8,sigma_Js=np.zeros(NCHAN)+0.066,P=4.074545941439190,Uscale=27.01)  #jitter upper limit\n",
    "\n",
    "freqopt = FrequencyOptimizer(psrnoise,galnoise,telnoise,numin=0.1,numax=10.0,nchan=NCHAN,log=True,nsteps=NSTEPS,levels=LEVELS)\n",
    "freqopt.calc()\n",
    "freqopt.plot(doshow=True,save=False,minimum='k*',points=(1.3,1.2,'ko'))"
   ]
  },
  {
   "cell_type": "code",
   "execution_count": 5,
   "metadata": {},
   "outputs": [
    {
     "name": "stdout",
     "output_type": "stream",
     "text": [
      "White noise: 0.085 us\n",
      "   Template-fitting error: 0.053 us\n",
      "   Jitter error: 0.066 us\n",
      "   Scintillation error: -0.000 us\n",
      "DM misestimation noise: 0.160 us\n",
      "   DM estimation error: 0.160 us\n",
      "   DM(nu) error: 0.000 us\n",
      "   Chromatic term error: 0.003 us\n",
      "Telescope noise: 0.033 us\n",
      "Total noise: 0.184 us\n",
      "\n"
     ]
    },
    {
     "data": {
      "text/plain": [
       "0.18404136994122872"
      ]
     },
     "execution_count": 5,
     "metadata": {},
     "output_type": "execute_result"
    }
   ],
   "source": [
    "# Look at individual TOA uncertainty contributions\n",
    "\n",
    "NCHAN = 100 #Increase resolution to avoid inversion of singular matrix of scintillation noise component.\n",
    "psrnoise = PulsarNoise(\"J1744-1134\",alpha=1.49,taud=26.1e-3,I_0=4.888,DM=3.14,D=0.41,tauvar=12.2e-3,dtd=1272.2,Weffs=np.zeros(NCHAN)+511.0,W50s=np.zeros(NCHAN)+136.8,sigma_Js=np.zeros(NCHAN)+0.066,P=4.074545941439190,Uscale=27.01)  #jitter upper limit\n",
    "\n",
    "freqopt = FrequencyOptimizer(psrnoise,galnoise,telnoise,numin=0.1,numax=10.0,nchan=NCHAN,log=True,nsteps=NSTEPS,levels=LEVELS)\n",
    "\n",
    "freqopt.vverbose = True # can be supplied directly as an argument above\n",
    "nulow = 1.1 #GHz\n",
    "nuhigh = 2.5\n",
    "nus = np.linspace(nulow,nuhigh,NCHAN+1)[:-1]\n",
    "\n",
    "freqopt.calc_single(nus)"
   ]
  },
  {
   "cell_type": "code",
   "execution_count": null,
   "metadata": {},
   "outputs": [],
   "source": []
  }
 ],
 "metadata": {
  "kernelspec": {
   "display_name": "Python 2",
   "language": "python",
   "name": "python2"
  },
  "language_info": {
   "codemirror_mode": {
    "name": "ipython",
    "version": 2
   },
   "file_extension": ".py",
   "mimetype": "text/x-python",
   "name": "python",
   "nbconvert_exporter": "python",
   "pygments_lexer": "ipython2",
   "version": "2.7.12"
  }
 },
 "nbformat": 4,
 "nbformat_minor": 1
}
